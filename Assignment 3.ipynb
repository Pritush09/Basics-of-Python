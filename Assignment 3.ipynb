{
 "cells": [
  {
   "cell_type": "markdown",
   "id": "dd011c78",
   "metadata": {},
   "source": [
    "## A"
   ]
  },
  {
   "cell_type": "code",
   "execution_count": null,
   "id": "83a0932d",
   "metadata": {},
   "outputs": [],
   "source": [
    "for i in range(1,11):\n",
    "    print(i,end=' ')"
   ]
  },
  {
   "cell_type": "markdown",
   "id": "43a2124e",
   "metadata": {},
   "source": [
    "## B"
   ]
  },
  {
   "cell_type": "code",
   "execution_count": null,
   "id": "f3986720",
   "metadata": {},
   "outputs": [],
   "source": [
    "n=int(input(\"Enter range: \"))\n",
    "for i in range(3,n+1,3):\n",
    "    print(i,end=' ')"
   ]
  },
  {
   "cell_type": "markdown",
   "id": "f35f72e5",
   "metadata": {},
   "source": [
    "## C"
   ]
  },
  {
   "cell_type": "code",
   "execution_count": null,
   "id": "906e4acb",
   "metadata": {},
   "outputs": [],
   "source": [
    "x = int(input(\"Enter a number: \"))\n",
    "y = int(input(\"Enter a number: \"))\n",
    "z = x \n",
    "for i in range(1,y):\n",
    "    z = z * x\n",
    "print(\"%d to the power %d = %d\"%(x,y,z))"
   ]
  },
  {
   "cell_type": "markdown",
   "id": "d08c0489",
   "metadata": {},
   "source": [
    "## D"
   ]
  },
  {
   "cell_type": "code",
   "execution_count": 3,
   "id": "a18bfb6e",
   "metadata": {},
   "outputs": [
    {
     "name": "stdout",
     "output_type": "stream",
     "text": [
      "Enter a number: 789\n",
      "Reverse of 789 is 987\n"
     ]
    }
   ],
   "source": [
    "x = int(input(\"Enter a number: \"))\n",
    "y = 0\n",
    "#print(\"Reverse of %d is \"%x,end='')\n",
    "while x>0:\n",
    "    y = y*10 + x%10\n",
    "    x  = x//10\n",
    "print(y)"
   ]
  },
  {
   "cell_type": "markdown",
   "id": "c4775dbd",
   "metadata": {},
   "source": [
    "## E"
   ]
  },
  {
   "cell_type": "code",
   "execution_count": 4,
   "id": "5a8e1f63",
   "metadata": {},
   "outputs": [
    {
     "name": "stdout",
     "output_type": "stream",
     "text": [
      "Enter a number: 121\n",
      "Palindrome\n"
     ]
    }
   ],
   "source": [
    "x = int(input(\"Enter a number: \"))\n",
    "z = x\n",
    "y = 0\n",
    "while x>0:\n",
    "    y = y*10 + x%10\n",
    "    x  = x//10\n",
    "if y==z:\n",
    "    print(\"Palindrome\")\n",
    "else:\n",
    "    print(\"Not Palindrome\")"
   ]
  },
  {
   "cell_type": "markdown",
   "id": "134cc025",
   "metadata": {},
   "source": [
    "## G\n"
   ]
  },
  {
   "cell_type": "code",
   "execution_count": null,
   "id": "5dee2dea",
   "metadata": {},
   "outputs": [],
   "source": [
    "n = int(input(\"Enter n: \"))\n",
    "if n==1:\n",
    "    print(0)\n",
    "elif n==2:\n",
    "    print(1)\n",
    "else:\n",
    "    a=0\n",
    "    b=1\n",
    "    print(\"0 1\",end=' ')\n",
    "    for i in range(2,n):\n",
    "        c=a+b\n",
    "        print(c,end=' ')\n",
    "        a=b\n",
    "        b=c"
   ]
  },
  {
   "cell_type": "markdown",
   "id": "3beba79a",
   "metadata": {},
   "source": [
    "## H"
   ]
  },
  {
   "cell_type": "code",
   "execution_count": null,
   "id": "4fe291fc",
   "metadata": {},
   "outputs": [],
   "source": [
    "n=int(input(\"Enter range: \"))\n",
    "if n>2:\n",
    "    print(2,end=' ')\n",
    "    for i in range(3,n):\n",
    "        for j in range (2,i):\n",
    "            if i%j == 0 :\n",
    "                break\n",
    "        if j == i-1:\n",
    "            print(i,end=' ')\n",
    "elif n==2:\n",
    "    print(2,end=' ')\n",
    "else:\n",
    "    print(0)"
   ]
  },
  {
   "cell_type": "markdown",
   "id": "58405eb5",
   "metadata": {},
   "source": [
    "## I"
   ]
  },
  {
   "cell_type": "code",
   "execution_count": null,
   "id": "a55a5325",
   "metadata": {},
   "outputs": [],
   "source": [
    "a = int(input(\"Enter a number: \"))\n",
    "b = int(input(\"Enter a number: \"))\n",
    "if a > b:\n",
    "        c = b + 1  \n",
    "else:  \n",
    "        c = a + 1  \n",
    "for i in range(1, c):  \n",
    "    if (( a % i == 0) and (b % i == 0 )):  \n",
    "        gcd = i  \n",
    "print(\"GCD of %d and %d is %d\"%(a,b,gcd))"
   ]
  },
  {
   "cell_type": "markdown",
   "id": "cdd81fc0",
   "metadata": {},
   "source": [
    "##  Binary Using Recursion"
   ]
  },
  {
   "cell_type": "code",
   "execution_count": 7,
   "id": "2a5fd901",
   "metadata": {},
   "outputs": [
    {
     "name": "stdout",
     "output_type": "stream",
     "text": [
      "Enter a decimal number: 4\n",
      "100"
     ]
    }
   ],
   "source": [
    "def Binary(x):\n",
    "    if(x > 0):\n",
    "        Binary(x//2)\n",
    "        print(x%2, end='')\n",
    "x = int(input(\"Enter a decimal number: \"))\n",
    "Binary(x)"
   ]
  },
  {
   "cell_type": "code",
   "execution_count": 9,
   "id": "fcda8ded",
   "metadata": {},
   "outputs": [
    {
     "data": {
      "text/plain": [
       "0"
      ]
     },
     "execution_count": 9,
     "metadata": {},
     "output_type": "execute_result"
    }
   ],
   "source": [
    "4%2"
   ]
  },
  {
   "cell_type": "code",
   "execution_count": null,
   "id": "8312c321",
   "metadata": {},
   "outputs": [],
   "source": []
  }
 ],
 "metadata": {
  "kernelspec": {
   "display_name": "Python 3 (ipykernel)",
   "language": "python",
   "name": "python3"
  },
  "language_info": {
   "codemirror_mode": {
    "name": "ipython",
    "version": 3
   },
   "file_extension": ".py",
   "mimetype": "text/x-python",
   "name": "python",
   "nbconvert_exporter": "python",
   "pygments_lexer": "ipython3",
   "version": "3.10.0"
  }
 },
 "nbformat": 4,
 "nbformat_minor": 5
}
